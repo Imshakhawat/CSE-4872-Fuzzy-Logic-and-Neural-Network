{
 "cells": [
  {
   "cell_type": "code",
   "execution_count": 1,
   "id": "915de6c0",
   "metadata": {},
   "outputs": [],
   "source": [
    "import numpy as np\n",
    "import matplotlib.pyplot as plt\n",
    "import matplotlib.colors\n",
    "import pandas as pd\n",
    "from sklearn.model_selection import train_test_split\n",
    "from sklearn.metrics import accuracy_score, mean_squared_error, log_loss\n",
    "from tqdm import tqdm_notebook \n",
    "import seaborn as sns\n",
    "import time\n",
    "from IPython.display import HTML\n",
    "from sklearn.preprocessing import StandardScaler\n",
    "\n",
    "\n",
    "from sklearn.preprocessing import OneHotEncoder\n",
    "from sklearn.datasets import make_blobs"
   ]
  },
  {
   "cell_type": "code",
   "execution_count": 2,
   "id": "3cd3eb73",
   "metadata": {},
   "outputs": [],
   "source": [
    "class FF_MultiClass_WeightVectorised:\n",
    "  \n",
    "  def __init__(self):\n",
    "    self.W1 = np.random.randn(4,2)\n",
    "    self.W2 = np.random.randn(2,3)\n",
    "    self.B1 = np.zeros((1,2))\n",
    "    self.B2 = np.zeros((1,3))\n",
    "  \n",
    "  def sigmoid(self, x):\n",
    "    return 1.0/(1.0 + np.exp(-x))\n",
    "  \n",
    "  def softmax(self, x):\n",
    "    exps = np.exp(x)\n",
    "    return exps / np.sum(exps)\n",
    "  \n",
    "  def forward_pass(self, x):\n",
    "    x = x.reshape(1, -1)\n",
    "    self.A1 = np.matmul(x,self.W1) + self.B1\n",
    "    self.H1 = self.sigmoid(self.A1)\n",
    "    self.A2 = np.matmul(self.H1, self.W2) + self.B2\n",
    "    self.H2 = self.softmax(self.A2) \n",
    "    return self.H2\n",
    "    \n",
    "  def grad_sigmoid(self, x):\n",
    "    return x*(1-x) \n",
    "  \n",
    "  def grad(self, x, y):\n",
    "    self.forward_pass(x)\n",
    "    x = x.reshape(1, -1) \n",
    "    y = y.reshape(1, -1) \n",
    "    \n",
    "    self.dA2 = self.H2 - y \n",
    "    \n",
    "    self.dW2 = np.matmul(self.H1.T, self.dA2) \n",
    "    self.dB2 = self.dA2 # (1, 4)\n",
    "    self.dH1 = np.matmul(self.dA2, self.W2.T) \n",
    "    self.dA1 = np.multiply(self.dH1, self.grad_sigmoid(self.H1))\n",
    "    \n",
    "    self.dW1 = np.matmul(x.T, self.dA1)\n",
    "    self.dB1 = self.dA1\n",
    "\n",
    "  \n",
    "  def fit(self, X, Y, epochs=1, learning_rate=1, display_loss=False):\n",
    "      \n",
    "    if display_loss:\n",
    "      loss = {}\n",
    "    \n",
    "    for i in tqdm_notebook(range(epochs), total=epochs, unit=\"epoch\"):\n",
    "      dW1 = np.zeros((4,2))\n",
    "      dW2 = np.zeros((2,3))\n",
    "      dB1 = np.zeros((1,2))\n",
    "      dB2 = np.zeros((1,3))\n",
    "      for x, y in zip(X, Y):\n",
    "        self.grad(x, y)\n",
    "        dW1 += self.dW1\n",
    "        dW2 += self.dW2\n",
    "        dB1 += self.dB1\n",
    "        dB2 += self.dB2  \n",
    "        \n",
    "      m = X.shape[0]\n",
    "      self.W2 -= learning_rate * (dW2/m)\n",
    "      self.B2 -= learning_rate * (dB2/m)\n",
    "      self.W1 -= learning_rate * (dW1/m)\n",
    "      self.B1 -= learning_rate * (dB1/m)\n",
    "\n",
    "      if display_loss:\n",
    "        Y_pred = self.predict(X)\n",
    "        loss[i] = log_loss(np.argmax(Y, axis=1), Y_pred)\n",
    "        \n",
    "    \n",
    "    if display_loss:\n",
    "      plt.plot(loss.values())\n",
    "      plt.xlabel('Epochs')\n",
    "      plt.ylabel('Log Loss')\n",
    "      plt.show()\n",
    "      \n",
    "  def predict(self, X):\n",
    "    Y_pred = []\n",
    "    for x in X:\n",
    "      y_pred = self.forward_pass(x)\n",
    "      Y_pred.append(y_pred)\n",
    "    return np.array(Y_pred).squeeze()"
   ]
  },
  {
   "cell_type": "code",
   "execution_count": 3,
   "id": "446fe579",
   "metadata": {},
   "outputs": [
    {
     "data": {
      "text/html": [
       "<div>\n",
       "<style scoped>\n",
       "    .dataframe tbody tr th:only-of-type {\n",
       "        vertical-align: middle;\n",
       "    }\n",
       "\n",
       "    .dataframe tbody tr th {\n",
       "        vertical-align: top;\n",
       "    }\n",
       "\n",
       "    .dataframe thead th {\n",
       "        text-align: right;\n",
       "    }\n",
       "</style>\n",
       "<table border=\"1\" class=\"dataframe\">\n",
       "  <thead>\n",
       "    <tr style=\"text-align: right;\">\n",
       "      <th></th>\n",
       "      <th>Cgpa</th>\n",
       "      <th>Age</th>\n",
       "      <th>IETLS</th>\n",
       "      <th>Publications</th>\n",
       "      <th>University</th>\n",
       "    </tr>\n",
       "  </thead>\n",
       "  <tbody>\n",
       "    <tr>\n",
       "      <th>0</th>\n",
       "      <td>3.50</td>\n",
       "      <td>28</td>\n",
       "      <td>5.4</td>\n",
       "      <td>6</td>\n",
       "      <td>California</td>\n",
       "    </tr>\n",
       "    <tr>\n",
       "      <th>1</th>\n",
       "      <td>3.79</td>\n",
       "      <td>25</td>\n",
       "      <td>3.0</td>\n",
       "      <td>1</td>\n",
       "      <td>Toronto</td>\n",
       "    </tr>\n",
       "    <tr>\n",
       "      <th>2</th>\n",
       "      <td>3.90</td>\n",
       "      <td>22</td>\n",
       "      <td>8.5</td>\n",
       "      <td>20</td>\n",
       "      <td>Stanford</td>\n",
       "    </tr>\n",
       "    <tr>\n",
       "      <th>3</th>\n",
       "      <td>3.58</td>\n",
       "      <td>27</td>\n",
       "      <td>5.3</td>\n",
       "      <td>7</td>\n",
       "      <td>California</td>\n",
       "    </tr>\n",
       "    <tr>\n",
       "      <th>4</th>\n",
       "      <td>3.78</td>\n",
       "      <td>26</td>\n",
       "      <td>3.4</td>\n",
       "      <td>2</td>\n",
       "      <td>Toronto</td>\n",
       "    </tr>\n",
       "  </tbody>\n",
       "</table>\n",
       "</div>"
      ],
      "text/plain": [
       "   Cgpa  Age  IETLS  Publications  University\n",
       "0  3.50   28    5.4             6  California\n",
       "1  3.79   25    3.0             1     Toronto\n",
       "2  3.90   22    8.5            20    Stanford\n",
       "3  3.58   27    5.3             7  California\n",
       "4  3.78   26    3.4             2     Toronto"
      ]
     },
     "execution_count": 3,
     "metadata": {},
     "output_type": "execute_result"
    }
   ],
   "source": [
    "df = pd.read_csv(\"data-set.csv\")\n",
    "df.head()"
   ]
  },
  {
   "cell_type": "code",
   "execution_count": 4,
   "id": "946e46e6",
   "metadata": {},
   "outputs": [],
   "source": [
    "y = df['University']\n",
    "x = df.drop(['University'], axis=1)"
   ]
  },
  {
   "cell_type": "code",
   "execution_count": 5,
   "id": "db635354",
   "metadata": {},
   "outputs": [
    {
     "name": "stdout",
     "output_type": "stream",
     "text": [
      "(36, 4) (12, 4) (48,)\n"
     ]
    }
   ],
   "source": [
    "X_train, X_val, Y_train, Y_val = train_test_split(x, y, random_state=0)\n",
    "print(X_train.shape, X_val.shape, y.shape)"
   ]
  },
  {
   "cell_type": "code",
   "execution_count": 6,
   "id": "b6910237",
   "metadata": {},
   "outputs": [
    {
     "name": "stdout",
     "output_type": "stream",
     "text": [
      "(36, 4) (12, 4) (48,)\n"
     ]
    }
   ],
   "source": [
    "sc = StandardScaler()\n",
    "X_train=sc.fit_transform(X_train)\n",
    "X_val=sc.transform(X_val)\n",
    "print(X_train.shape, X_val.shape, y.shape)"
   ]
  },
  {
   "cell_type": "code",
   "execution_count": 7,
   "id": "008bd8c5",
   "metadata": {},
   "outputs": [
    {
     "name": "stdout",
     "output_type": "stream",
     "text": [
      "(36, 3) (12, 3)\n"
     ]
    },
    {
     "data": {
      "text/plain": [
       "array([[1., 0., 0.],\n",
       "       [1., 0., 0.],\n",
       "       [0., 1., 0.],\n",
       "       [0., 1., 0.],\n",
       "       [0., 0., 1.],\n",
       "       [1., 0., 0.],\n",
       "       [1., 0., 0.],\n",
       "       [0., 0., 1.],\n",
       "       [0., 0., 1.],\n",
       "       [0., 0., 1.],\n",
       "       [0., 1., 0.],\n",
       "       [0., 1., 0.],\n",
       "       [1., 0., 0.],\n",
       "       [0., 1., 0.],\n",
       "       [0., 0., 1.],\n",
       "       [0., 0., 1.],\n",
       "       [0., 1., 0.],\n",
       "       [0., 1., 0.],\n",
       "       [0., 1., 0.],\n",
       "       [0., 1., 0.],\n",
       "       [0., 1., 0.],\n",
       "       [0., 0., 1.],\n",
       "       [1., 0., 0.],\n",
       "       [0., 0., 1.],\n",
       "       [1., 0., 0.],\n",
       "       [1., 0., 0.],\n",
       "       [0., 1., 0.],\n",
       "       [1., 0., 0.],\n",
       "       [1., 0., 0.],\n",
       "       [0., 0., 1.],\n",
       "       [1., 0., 0.],\n",
       "       [1., 0., 0.],\n",
       "       [1., 0., 0.],\n",
       "       [1., 0., 0.],\n",
       "       [1., 0., 0.],\n",
       "       [0., 1., 0.]])"
      ]
     },
     "execution_count": 7,
     "metadata": {},
     "output_type": "execute_result"
    }
   ],
   "source": [
    "enc = OneHotEncoder()\n",
    "y_OH_train = enc.fit_transform(np.expand_dims(Y_train,1)).toarray()\n",
    "y_OH_val = enc.fit_transform(np.expand_dims(Y_val,1)).toarray()\n",
    "print(y_OH_train.shape, y_OH_val.shape)\n",
    "y_OH_train"
   ]
  },
  {
   "cell_type": "code",
   "execution_count": 8,
   "id": "68eb59a4",
   "metadata": {},
   "outputs": [
    {
     "name": "stderr",
     "output_type": "stream",
     "text": [
      "C:\\Users\\ASPHAL~1\\AppData\\Local\\Temp/ipykernel_3236/3869363629.py:48: TqdmDeprecationWarning: This function will be removed in tqdm==5.0.0\n",
      "Please use `tqdm.notebook.tqdm` instead of `tqdm.tqdm_notebook`\n",
      "  for i in tqdm_notebook(range(epochs), total=epochs, unit=\"epoch\"):\n"
     ]
    },
    {
     "data": {
      "application/vnd.jupyter.widget-view+json": {
       "model_id": "93d7beb7afd048d193dac1c7a7c79583",
       "version_major": 2,
       "version_minor": 0
      },
      "text/plain": [
       "  0%|          | 0/1000 [00:00<?, ?epoch/s]"
      ]
     },
     "metadata": {},
     "output_type": "display_data"
    }
   ],
   "source": [
    "weight_vectorised = FF_MultiClass_WeightVectorised()\n",
    "weight_vectorised.fit(X_train,y_OH_train,epochs=1000,learning_rate=1)"
   ]
  },
  {
   "cell_type": "code",
   "execution_count": 9,
   "id": "fc9f4c4a",
   "metadata": {},
   "outputs": [
    {
     "name": "stdout",
     "output_type": "stream",
     "text": [
      "Training accuracy 1.0\n",
      "Validation accuracy 1.0\n"
     ]
    }
   ],
   "source": [
    "Y_pred_train = weight_vectorised.predict(X_train)\n",
    "Y_pred_train = np.argmax(Y_pred_train,1)\n",
    "\n",
    "Y_pred_val = weight_vectorised.predict(X_val)\n",
    "Y_pred_val = np.argmax(Y_pred_val,1)\n",
    "\n",
    "new_y_OH_val = np.argmax(y_OH_val,1)\n",
    "new_y_OH_train = np.argmax(y_OH_train,1)\n",
    "\n",
    "\n",
    "accuracy_train = accuracy_score(Y_pred_train, new_y_OH_train)\n",
    "accuracy_val = accuracy_score(Y_pred_val, new_y_OH_val)\n",
    "\n",
    "print(\"Training accuracy\", round(accuracy_train, 2))\n",
    "print(\"Validation accuracy\", round(accuracy_val, 2))"
   ]
  },
  {
   "cell_type": "code",
   "execution_count": 11,
   "id": "da7cb16d",
   "metadata": {},
   "outputs": [
    {
     "ename": "TypeError",
     "evalue": "predict() missing 1 required positional argument: 'X'",
     "output_type": "error",
     "traceback": [
      "\u001b[1;31m---------------------------------------------------------------------------\u001b[0m",
      "\u001b[1;31mTypeError\u001b[0m                                 Traceback (most recent call last)",
      "\u001b[1;32mC:\\Users\\ASPHAL~1\\AppData\\Local\\Temp/ipykernel_3236/2713060887.py\u001b[0m in \u001b[0;36m<module>\u001b[1;34m\u001b[0m\n\u001b[1;32m----> 1\u001b[1;33m \u001b[0mqry\u001b[0m \u001b[1;33m=\u001b[0m \u001b[0mnp\u001b[0m\u001b[1;33m.\u001b[0m\u001b[0margmax\u001b[0m\u001b[1;33m(\u001b[0m\u001b[0mFF_MultiClass_WeightVectorised\u001b[0m\u001b[1;33m.\u001b[0m\u001b[0mpredict\u001b[0m\u001b[1;33m(\u001b[0m\u001b[1;33m[\u001b[0m\u001b[1;33m[\u001b[0m\u001b[1;36m3\u001b[0m\u001b[1;33m,\u001b[0m\u001b[1;36m12\u001b[0m\u001b[1;33m,\u001b[0m\u001b[1;36m9\u001b[0m\u001b[1;33m,\u001b[0m\u001b[1;36m10\u001b[0m\u001b[1;33m]\u001b[0m\u001b[1;33m]\u001b[0m\u001b[1;33m)\u001b[0m\u001b[1;33m,\u001b[0m\u001b[1;36m1\u001b[0m\u001b[1;33m)\u001b[0m\u001b[1;33m\u001b[0m\u001b[1;33m\u001b[0m\u001b[0m\n\u001b[0m\u001b[0;32m      2\u001b[0m \u001b[0mqry\u001b[0m\u001b[1;33m\u001b[0m\u001b[1;33m\u001b[0m\u001b[0m\n",
      "\u001b[1;31mTypeError\u001b[0m: predict() missing 1 required positional argument: 'X'"
     ]
    }
   ],
   "source": [
    "qry = np.argmax(FF_MultiClass_WeightVectorised.predict([[3,12,9,10]]),1)\n",
    "qry"
   ]
  },
  {
   "cell_type": "code",
   "execution_count": null,
   "id": "18b242a8",
   "metadata": {},
   "outputs": [],
   "source": []
  }
 ],
 "metadata": {
  "kernelspec": {
   "display_name": "Python 3 (ipykernel)",
   "language": "python",
   "name": "python3"
  },
  "language_info": {
   "codemirror_mode": {
    "name": "ipython",
    "version": 3
   },
   "file_extension": ".py",
   "mimetype": "text/x-python",
   "name": "python",
   "nbconvert_exporter": "python",
   "pygments_lexer": "ipython3",
   "version": "3.9.7"
  }
 },
 "nbformat": 4,
 "nbformat_minor": 5
}
